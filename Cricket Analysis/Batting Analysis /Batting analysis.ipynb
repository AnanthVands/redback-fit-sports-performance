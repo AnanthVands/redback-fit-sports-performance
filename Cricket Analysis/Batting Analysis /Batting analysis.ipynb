{
 "cells": [
  {
   "cell_type": "code",
   "execution_count": 7,
   "id": "7cef9a99-016c-45bc-8471-dc4209974a22",
   "metadata": {},
   "outputs": [
    {
     "name": "stdout",
     "output_type": "stream",
     "text": [
      "   Heart_Rate  Reaction_Time  Swing_Speed  Grip_Pressure\n",
      "0  128.532180     423.323502    22.500225      17.538166\n",
      "1  152.260358     364.527591    31.381385      22.089555\n",
      "2  100.397536     386.137502    31.996400      46.039986\n",
      "3  121.359507     344.419954    36.371314      25.125513\n",
      "4  126.278983     365.849088    24.031426      29.957395\n",
      "   Heart_Rate  Reaction_Time  Swing_Speed  Grip_Pressure  Performance_Index\n",
      "0  128.532180     423.323502    22.500225      17.538166         152.357992\n",
      "1  152.260358     364.527591    31.381385      22.089555         141.554778\n",
      "2  100.397536     386.137502    31.996400      46.039986         147.887561\n",
      "3  121.359507     344.419954    36.371314      25.125513         135.035565\n",
      "4  126.278983     365.849088    24.031426      29.957395         137.986674\n"
     ]
    }
   ],
   "source": [
    "\n",
    "import pandas as pd\n",
    "\n",
    "batting_data = pd.read_csv(\"batting_data.csv\")\n",
    "\n",
    "print(batting_data.head())\n",
    "\n",
    "batting_data['Performance_Index'] = (\n",
    "    batting_data['Swing_Speed'] * 0.4 +                   \n",
    "    batting_data['Reaction_Time'] * 0.3 +        \n",
    "    batting_data['Grip_Pressure'] * 0.2 +               \n",
    "    batting_data['Heart_Rate'] * 0.1            \n",
    ")\n",
    "\n",
    "print(batting_data.head())"
   ]
  },
  {
   "cell_type": "code",
   "execution_count": null,
   "id": "ee561e5e-b7a0-44d8-b3b1-c01717f0e8a9",
   "metadata": {},
   "outputs": [],
   "source": []
  }
 ],
 "metadata": {
  "kernelspec": {
   "display_name": "Python 3 (ipykernel)",
   "language": "python",
   "name": "python3"
  },
  "language_info": {
   "codemirror_mode": {
    "name": "ipython",
    "version": 3
   },
   "file_extension": ".py",
   "mimetype": "text/x-python",
   "name": "python",
   "nbconvert_exporter": "python",
   "pygments_lexer": "ipython3",
   "version": "3.12.4"
  }
 },
 "nbformat": 4,
 "nbformat_minor": 5
}
