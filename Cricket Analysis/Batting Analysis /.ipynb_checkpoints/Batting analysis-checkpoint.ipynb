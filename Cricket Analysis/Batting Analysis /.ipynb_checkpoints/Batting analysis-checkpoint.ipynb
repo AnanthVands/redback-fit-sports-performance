{
 "cells": [
  {
   "cell_type": "code",
   "execution_count": 6,
   "id": "7cef9a99-016c-45bc-8471-dc4209974a22",
   "metadata": {},
   "outputs": [
    {
     "name": "stdout",
     "output_type": "stream",
     "text": [
      "   Heart_Rate  Reaction_Time  Swing_Speed  Grip_Pressure  Performance_Index\n",
      "0  128.532180     423.323502    22.500225      17.538166          23.041248\n",
      "1  152.260358     364.527591    31.381385      22.089555          41.558465\n",
      "2  100.397536     386.137502    31.996400      46.039986          45.068240\n",
      "3  121.359507     344.419954    36.371314      25.125513          52.563973\n",
      "4  126.278983     365.849088    24.031426      29.957395          42.342446\n"
     ]
    }
   ],
   "source": [
    "\n",
    "import pandas as pd\n",
    "\n",
    "batting_data = pd.read_csv(\"batting_data.csv\")\n",
    "\n",
    "batting_data['Performance_Index'] = (\n",
    "    batting_data['Swing_Speed'] * 0.4 +\n",
    "    (400 - batting_data['Reaction_Time']) * 0.3 +\n",
    "    batting_data['Grip_Pressure'] * 0.2 +\n",
    "    (140 - batting_data['Heart_Rate']) * 0.1\n",
    ")\n",
    "\n",
    "# Normalize the Performance Index to a 0-100 scale\n",
    "batting_data['Performance_Index'] = (\n",
    "    (batting_data['Performance_Index'] - batting_data['Performance_Index'].min()) /\n",
    "    (batting_data['Performance_Index'].max() - batting_data['Performance_Index'].min()) * 100\n",
    ")\n",
    "\n",
    "\n",
    "print(batting_data.head())"
   ]
  },
  {
   "cell_type": "code",
   "execution_count": 4,
   "id": "ee561e5e-b7a0-44d8-b3b1-c01717f0e8a9",
   "metadata": {},
   "outputs": [
    {
     "name": "stdout",
     "output_type": "stream",
     "text": [
      "Mean Squared Error: 3.9244252312934897e-28\n",
      "R-squared: 1.0\n",
      "         Feature  Coefficient\n",
      "0     Heart_Rate    -0.093859\n",
      "1  Reaction_Time    -0.281578\n",
      "2    Swing_Speed     0.375437\n",
      "3  Grip_Pressure     0.187719\n"
     ]
    }
   ],
   "source": [
    "from sklearn.model_selection import train_test_split\n",
    "from sklearn.linear_model import LinearRegression\n",
    "from sklearn.metrics import mean_squared_error, r2_score\n",
    "\n",
    "# Features and target\n",
    "X = batting_data[['Heart_Rate', 'Reaction_Time', 'Swing_Speed', 'Grip_Pressure']]\n",
    "y = batting_data['Performance_Index']\n",
    "\n",
    "# Split data\n",
    "X_train, X_test, y_train, y_test = train_test_split(X, y, test_size=0.2, random_state=42)\n",
    "\n",
    "# Train Linear Regression\n",
    "linear_model = LinearRegression()\n",
    "linear_model.fit(X_train, y_train)\n",
    "\n",
    "# Predictions\n",
    "y_pred = linear_model.predict(X_test)\n",
    "\n",
    "# Evaluate\n",
    "print(\"Mean Squared Error:\", mean_squared_error(y_test, y_pred))\n",
    "print(\"R-squared:\", r2_score(y_test, y_pred))\n",
    "\n",
    "# Coefficients\n",
    "coefficients = pd.DataFrame({\n",
    "    'Feature': X.columns,\n",
    "    'Coefficient': linear_model.coef_\n",
    "})\n",
    "print(coefficients)\n"
   ]
  }
 ],
 "metadata": {
  "kernelspec": {
   "display_name": "Python 3 (ipykernel)",
   "language": "python",
   "name": "python3"
  },
  "language_info": {
   "codemirror_mode": {
    "name": "ipython",
    "version": 3
   },
   "file_extension": ".py",
   "mimetype": "text/x-python",
   "name": "python",
   "nbconvert_exporter": "python",
   "pygments_lexer": "ipython3",
   "version": "3.12.4"
  }
 },
 "nbformat": 4,
 "nbformat_minor": 5
}
